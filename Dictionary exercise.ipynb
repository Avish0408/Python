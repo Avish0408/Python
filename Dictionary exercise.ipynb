{
 "cells": [
  {
   "cell_type": "markdown",
   "id": "385e480e-8e7c-4bac-9667-f3815d8c3432",
   "metadata": {},
   "source": [
    "### Create a dictionary with three key-value pairs: name, age, and city.\n",
    "### How would you access the value associated with the key \"age\" in the dictionary {\"name\": \"John\", \"age\": 25, \"city\": \"New York\"}?\n",
    "### Add a new key-value pair to the dictionary {\"brand\": \"Ford\", \"model\": \"Mustang\"} for the year 2020.\n",
    "### Write a Python code to remove the key \"city\" from the dictionary {\"name\": \"Alice\", \"city\": \"Paris\"}.\n",
    "### How would you get all the keys from the dictionary {\"fruit\": \"apple\", \"vegetable\": \"carrot\"}?\n",
    "### Check if the key \"price\" exists in the dictionary {\"item\": \"pen\", \"color\": \"blue\"}.\n",
    "### Merge the two dictionaries {\"a\": 1, \"b\": 2} and {\"c\": 3, \"d\": 4}.\n",
    "### Write a Python code to update the value of \"name\" to \"Mike\" in the dictionary {\"name\": \"John\", \"age\": 22}.\n",
    "### How would you loop through all the key-value pairs in the dictionary {\"animal\": \"dog\", \"sound\": \"bark\"}?\n",
    "### Create an empty dictionary and add three key-value pairs.\n",
    "\n"
   ]
  },
  {
   "cell_type": "code",
   "execution_count": 2,
   "id": "ea53d5ab-93eb-4157-b56e-ac290f641b18",
   "metadata": {},
   "outputs": [
    {
     "data": {
      "text/plain": [
       "{'name': 'avish', 'age': 20, 'city': 'delhi'}"
      ]
     },
     "execution_count": 2,
     "metadata": {},
     "output_type": "execute_result"
    }
   ],
   "source": [
    "a={\"name\":\"avish\",\"age\":20,\"city\":\"delhi\"}\n",
    "a"
   ]
  },
  {
   "cell_type": "code",
   "execution_count": 3,
   "id": "eb7fc033-42e0-4df3-a212-a4c1ce361c8e",
   "metadata": {},
   "outputs": [
    {
     "data": {
      "text/plain": [
       "25"
      ]
     },
     "execution_count": 3,
     "metadata": {},
     "output_type": "execute_result"
    }
   ],
   "source": [
    "b={\"name\":\"john\",\"age\":25,\"city\":\"New York\"}\n",
    "b[\"age\"]"
   ]
  },
  {
   "cell_type": "code",
   "execution_count": 5,
   "id": "7f77ff7b-cec1-4b53-8745-4a617e3de5a6",
   "metadata": {},
   "outputs": [
    {
     "data": {
      "text/plain": [
       "{'brand': 'Ford', 'model': 'Mustang', 'Year': 2020}"
      ]
     },
     "execution_count": 5,
     "metadata": {},
     "output_type": "execute_result"
    }
   ],
   "source": [
    "l={\"brand\": \"Ford\", \"model\": \"Mustang\"}\n",
    "l[\"Year\"]=2020\n",
    "l"
   ]
  },
  {
   "cell_type": "code",
   "execution_count": 13,
   "id": "497ee460-747a-47e7-a752-a7ce82eacdb2",
   "metadata": {},
   "outputs": [
    {
     "data": {
      "text/plain": [
       "{'name': 'Alice'}"
      ]
     },
     "execution_count": 13,
     "metadata": {},
     "output_type": "execute_result"
    }
   ],
   "source": [
    "s={\"name\": \"Alice\", \"city\": \"Paris\"}\n",
    "s.pop(\"city\")\n",
    "s"
   ]
  },
  {
   "cell_type": "code",
   "execution_count": 15,
   "id": "5d753aed-b825-4273-82c1-d77ff44e5c3b",
   "metadata": {},
   "outputs": [
    {
     "data": {
      "text/plain": [
       "dict_keys(['item', 'color'])"
      ]
     },
     "execution_count": 15,
     "metadata": {},
     "output_type": "execute_result"
    }
   ],
   "source": [
    "dict={\"item\": \"pen\", \"color\": \"blue\"}\n",
    "dict.keys()"
   ]
  },
  {
   "cell_type": "code",
   "execution_count": 19,
   "id": "483d7dea-ff65-4170-9475-42f5b778664c",
   "metadata": {},
   "outputs": [
    {
     "name": "stdout",
     "output_type": "stream",
     "text": [
      "False\n"
     ]
    }
   ],
   "source": [
    "check={\"item\": \"pen\", \"color\": \"blue\"}\n",
    "print(\"price\" in check)"
   ]
  },
  {
   "cell_type": "code",
   "execution_count": 20,
   "id": "19810778-57ea-4f2e-9382-aad384f5f7c3",
   "metadata": {},
   "outputs": [
    {
     "data": {
      "text/plain": [
       "{'a': 1, 'b': 2, 'c': 3, 'd': 4}"
      ]
     },
     "execution_count": 20,
     "metadata": {},
     "output_type": "execute_result"
    }
   ],
   "source": [
    "f={\"a\": 1, \"b\": 2}\n",
    "h={\"c\": 3, \"d\": 4}\n",
    "v=f|h\n",
    "v"
   ]
  },
  {
   "cell_type": "code",
   "execution_count": 21,
   "id": "fa348a10-fe99-4406-85b2-5fdb8b20cf43",
   "metadata": {},
   "outputs": [
    {
     "data": {
      "text/plain": [
       "{'name': 'Mike', 'age': 22}"
      ]
     },
     "execution_count": 21,
     "metadata": {},
     "output_type": "execute_result"
    }
   ],
   "source": [
    "k={\"name\": \"John\", \"age\": 22}\n",
    "k.update(name=\"Mike\")\n",
    "k"
   ]
  },
  {
   "cell_type": "code",
   "execution_count": 23,
   "id": "a0330264-8c24-49ef-b975-2146048894f4",
   "metadata": {},
   "outputs": [
    {
     "name": "stdout",
     "output_type": "stream",
     "text": [
      "{'animal': 'dog', 'sound': 'bark'}\n",
      "{'animal': 'dog', 'sound': 'bark'}\n"
     ]
    }
   ],
   "source": [
    "m={\"animal\": \"dog\", \"sound\": \"bark\"}\n",
    "for b in m.items():\n",
    "    print(m)"
   ]
  },
  {
   "cell_type": "code",
   "execution_count": 25,
   "id": "79dc08e1-bd9b-466e-b774-ec3f60606749",
   "metadata": {},
   "outputs": [
    {
     "data": {
      "text/plain": [
       "{}"
      ]
     },
     "execution_count": 25,
     "metadata": {},
     "output_type": "execute_result"
    }
   ],
   "source": [
    "p={}\n",
    "p"
   ]
  },
  {
   "cell_type": "code",
   "execution_count": 26,
   "id": "d84312a6-9fdb-46f1-9dd2-2e8915e9df09",
   "metadata": {},
   "outputs": [
    {
     "data": {
      "text/plain": [
       "{'hostel': 'nun', 'create': 'horror', 'the': 'end'}"
      ]
     },
     "execution_count": 26,
     "metadata": {},
     "output_type": "execute_result"
    }
   ],
   "source": [
    "p[\"hostel\"]=\"nun\"\n",
    "p[\"create\"]=\"horror\"\n",
    "p[\"the\"]=\"end\"\n",
    "p"
   ]
  },
  {
   "cell_type": "code",
   "execution_count": null,
   "id": "a68a3027-767c-4556-a47d-0a2b5323a147",
   "metadata": {},
   "outputs": [],
   "source": []
  }
 ],
 "metadata": {
  "kernelspec": {
   "display_name": "Python 3 (ipykernel)",
   "language": "python",
   "name": "python3"
  },
  "language_info": {
   "codemirror_mode": {
    "name": "ipython",
    "version": 3
   },
   "file_extension": ".py",
   "mimetype": "text/x-python",
   "name": "python",
   "nbconvert_exporter": "python",
   "pygments_lexer": "ipython3",
   "version": "3.12.4"
  }
 },
 "nbformat": 4,
 "nbformat_minor": 5
}

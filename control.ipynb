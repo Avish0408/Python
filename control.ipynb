{
 "cells": [
  {
   "cell_type": "code",
   "execution_count": 12,
   "id": "fb61f750-320f-44cb-830d-4fd6825e8e24",
   "metadata": {},
   "outputs": [
    {
     "name": "stdout",
     "output_type": "stream",
     "text": [
      "b\n"
     ]
    }
   ],
   "source": [
    "a=20\n",
    "b=30\n",
    "\n",
    "if a>b:\n",
    "    print(\"a\")\n",
    "else:\n",
    "    print(\"b\")"
   ]
  },
  {
   "cell_type": "code",
   "execution_count": 8,
   "id": "858fd007-ecd1-4239-b350-81a232ff670a",
   "metadata": {},
   "outputs": [
    {
     "name": "stdout",
     "output_type": "stream",
     "text": [
      "a\n"
     ]
    }
   ],
   "source": [
    "a=20\n",
    "b=15\n",
    "c=10\n",
    "\n",
    "if a>b and a>c:\n",
    "    print(\"a\")\n",
    "elif b>a and b>c:\n",
    "    print(\"b\")\n",
    "else:\n",
    "    print(\"c\")"
   ]
  },
  {
   "cell_type": "code",
   "execution_count": 15,
   "id": "8906de6d-4a66-4db1-8bf6-046dcca76881",
   "metadata": {},
   "outputs": [
    {
     "name": "stdout",
     "output_type": "stream",
     "text": [
      "The count variable is : 1\n",
      "The count variable is : 2\n",
      "The count variable is : 3\n",
      "The count variable is : 4\n",
      "The count variable is : 5\n",
      "The count variable is : 6\n",
      "The count variable is : 7\n",
      "The count variable is : 8\n",
      "The count variable is : 9\n",
      "The count variable is : 10\n",
      "The count variable is : 11\n",
      "The count variable is : 12\n",
      "The count variable is : 13\n",
      "The count variable is : 14\n",
      "The count variable is : 15\n",
      "The count variable is : 16\n",
      "The count variable is : 17\n",
      "The count variable is : 18\n",
      "The count variable is : 19\n",
      "The count variable is : 20\n",
      "The count variable is : 21\n",
      "The count variable is : 22\n",
      "The count variable is : 23\n",
      "The count variable is : 24\n",
      "The count variable is : 25\n",
      "The count variable is : 26\n",
      "The count variable is : 27\n",
      "The count variable is : 28\n",
      "The count variable is : 29\n",
      "The count variable is : 30\n",
      "The count variable is : 31\n",
      "The count variable is : 32\n",
      "The count variable is : 33\n",
      "The count variable is : 34\n",
      "The count variable is : 35\n",
      "The count variable is : 36\n",
      "The count variable is : 37\n",
      "The count variable is : 38\n",
      "The count variable is : 39\n",
      "The count variable is : 40\n",
      "The count variable is : 41\n",
      "The count variable is : 42\n",
      "The count variable is : 43\n",
      "The count variable is : 44\n",
      "The count variable is : 45\n",
      "The count variable is : 46\n",
      "The count variable is : 47\n",
      "The count variable is : 48\n",
      "The count variable is : 49\n",
      "The count variable is : 50\n",
      "The count variable is : 51\n",
      "The count variable is : 52\n",
      "The count variable is : 53\n",
      "The count variable is : 54\n",
      "The count variable is : 55\n",
      "The count variable is : 56\n",
      "The count variable is : 57\n",
      "The count variable is : 58\n",
      "The count variable is : 59\n",
      "The count variable is : 60\n",
      "The count variable is : 61\n",
      "The count variable is : 62\n",
      "The count variable is : 63\n",
      "The count variable is : 64\n",
      "The count variable is : 65\n",
      "The count variable is : 66\n",
      "The count variable is : 67\n",
      "The count variable is : 68\n",
      "The count variable is : 69\n",
      "The count variable is : 70\n",
      "The count variable is : 71\n",
      "The count variable is : 72\n",
      "The count variable is : 73\n",
      "The count variable is : 74\n",
      "The count variable is : 75\n",
      "The count variable is : 76\n",
      "The count variable is : 77\n",
      "The count variable is : 78\n",
      "The count variable is : 79\n",
      "The count variable is : 80\n",
      "The count variable is : 81\n",
      "The count variable is : 82\n",
      "The count variable is : 83\n",
      "The count variable is : 84\n",
      "The count variable is : 85\n",
      "The count variable is : 86\n",
      "The count variable is : 87\n",
      "The count variable is : 88\n",
      "The count variable is : 89\n",
      "The count variable is : 90\n",
      "The count variable is : 91\n",
      "The count variable is : 92\n",
      "The count variable is : 93\n",
      "The count variable is : 94\n",
      "The count variable is : 95\n",
      "The count variable is : 96\n",
      "The count variable is : 97\n",
      "The count variable is : 98\n",
      "The count variable is : 99\n"
     ]
    }
   ],
   "source": [
    "count=1\n",
    "\n",
    "while count <100:\n",
    "    print(\"The count variable is :\",count)\n",
    "    count=count+1"
   ]
  },
  {
   "cell_type": "code",
   "execution_count": 20,
   "id": "ee1d85b6-9c0c-4982-aaf6-1792e1fb5e90",
   "metadata": {},
   "outputs": [
    {
     "name": "stdout",
     "output_type": "stream",
     "text": [
      "The count variable is : 1\n",
      "The count variable is : 2\n",
      "The count variable is : 3\n",
      "The count variable is : 4\n",
      "The count variable is : 5\n",
      "The count variable is : 6\n",
      "The count variable is : 7\n"
     ]
    }
   ],
   "source": [
    "count=1\n",
    "\n",
    "while count <8:\n",
    "    print(\"The count variable is :\",count)\n",
    "    count=count+1"
   ]
  },
  {
   "cell_type": "code",
   "execution_count": 21,
   "id": "dfc645ee-bf6e-466e-8281-c0a965dec8a3",
   "metadata": {},
   "outputs": [
    {
     "name": "stdout",
     "output_type": "stream",
     "text": [
      "The count variable is : 10\n",
      "The count variable is : 15\n",
      "The count variable is : 20\n",
      "The count variable is : 25\n",
      "The count variable is : 30\n",
      "The count variable is : 35\n",
      "The count variable is : 40\n",
      "The count variable is : 45\n"
     ]
    }
   ],
   "source": [
    "count=10\n",
    "\n",
    "while count <50:\n",
    "    print(\"The count variable is :\",count)\n",
    "    count=count+5"
   ]
  },
  {
   "cell_type": "code",
   "execution_count": 23,
   "id": "a3471a84-add3-4ea2-847d-d5a7d6d82ab9",
   "metadata": {},
   "outputs": [
    {
     "name": "stdout",
     "output_type": "stream",
     "text": [
      "The count variable is: 1\n",
      "The count variable is: 2\n",
      "The count variable is: 3\n",
      "The count variable is: 4\n",
      "The count variable is: 5\n",
      "The count variable is: 6\n",
      "The count variable is: 7\n",
      "The count variable is: 8\n",
      "The count variable is: 9\n"
     ]
    }
   ],
   "source": [
    "for count1 in range(1,10):\n",
    "    print(\"The count variable is:\",count1)"
   ]
  },
  {
   "cell_type": "code",
   "execution_count": 26,
   "id": "b9e5db1c-4331-46be-a8e8-897d827c1593",
   "metadata": {},
   "outputs": [
    {
     "name": "stdout",
     "output_type": "stream",
     "text": [
      "Current letter is A\n",
      "Current letter is v\n",
      "Current letter is i\n",
      "Current letter is s\n",
      "Current letter is h\n"
     ]
    }
   ],
   "source": [
    "for i in \"Avish\":\n",
    "    print(\"Current letter is\",i)"
   ]
  },
  {
   "cell_type": "code",
   "execution_count": 27,
   "id": "1d36a927-f80b-4e91-98b8-eef4aed20641",
   "metadata": {},
   "outputs": [
    {
     "name": "stdout",
     "output_type": "stream",
     "text": [
      "Apple\n",
      "Mango\n",
      "ornage\n",
      "Cherry\n"
     ]
    }
   ],
   "source": [
    "fruits_lists=[\"Apple\",\"Mango\",\"ornage\",\"Cherry\"]\n",
    "for i in fruits_lists:\n",
    "    print(i)"
   ]
  },
  {
   "cell_type": "code",
   "execution_count": 30,
   "id": "99d33cf7-5f0e-49ff-b876-aa147c7df2d6",
   "metadata": {},
   "outputs": [
    {
     "name": "stdout",
     "output_type": "stream",
     "text": [
      "1\n",
      "4\n",
      "9\n",
      "16\n",
      "25\n"
     ]
    }
   ],
   "source": [
    "hello=1,2,3,4,5\n",
    "for i in hello:\n",
    "    square=i**2\n",
    "    print(square)"
   ]
  },
  {
   "cell_type": "code",
   "execution_count": 4,
   "id": "ccf29db2-e439-4928-bde8-ecad29c217a6",
   "metadata": {},
   "outputs": [
    {
     "name": "stdout",
     "output_type": "stream",
     "text": [
      "True\n",
      "False\n",
      "True\n",
      "False\n",
      "True\n",
      "False\n",
      "True\n",
      "False\n",
      "True\n",
      "False\n",
      "True\n"
     ]
    }
   ],
   "source": [
    "even=[0,1,2,3,4,5,6,7,8,9,10]\n",
    "for i in even:\n",
    "    even1=i%2==0\n",
    "    print(even1)"
   ]
  },
  {
   "cell_type": "code",
   "execution_count": 43,
   "id": "d62a35f5-e3a0-45a0-9fe2-3d9cf0ca7669",
   "metadata": {},
   "outputs": [
    {
     "name": "stdout",
     "output_type": "stream",
     "text": [
      "8 is even.\n"
     ]
    }
   ],
   "source": [
    "num = 8\n",
    "\n",
    "if num % 2 ==0:\n",
    "    print(f\"{num} is even.\")\n",
    "else:\n",
    "    print(f\"{num} is not even.\")"
   ]
  },
  {
   "cell_type": "code",
   "execution_count": 49,
   "id": "50a0ec44-2636-424c-a1de-fb39b8a3f78f",
   "metadata": {},
   "outputs": [
    {
     "name": "stdout",
     "output_type": "stream",
     "text": [
      "10 is divisible by 5.\n"
     ]
    }
   ],
   "source": [
    "num = 10\n",
    "\n",
    "if num % 5 ==0:\n",
    "    print(f\"{num} is divisible by 5.\")\n",
    "else:\n",
    "    print(f\"{num} is not divisible by 5.\")"
   ]
  },
  {
   "cell_type": "code",
   "execution_count": 51,
   "id": "0bdd1e47-1a7f-4d29-a924-b1533d378a38",
   "metadata": {},
   "outputs": [
    {
     "name": "stdout",
     "output_type": "stream",
     "text": [
      "800\n"
     ]
    }
   ],
   "source": [
    "def area(length,breadth):\n",
    "    return length*breadth\n",
    "\n",
    "length=20\n",
    "breadth=30\n",
    "\n",
    "area2=area(length, breadth)\n",
    "print(area2)"
   ]
  }
 ],
 "metadata": {
  "kernelspec": {
   "display_name": "Python 3 (ipykernel)",
   "language": "python",
   "name": "python3"
  },
  "language_info": {
   "codemirror_mode": {
    "name": "ipython",
    "version": 3
   },
   "file_extension": ".py",
   "mimetype": "text/x-python",
   "name": "python",
   "nbconvert_exporter": "python",
   "pygments_lexer": "ipython3",
   "version": "3.12.4"
  }
 },
 "nbformat": 4,
 "nbformat_minor": 5
}

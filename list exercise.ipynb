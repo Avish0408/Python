{
 "cells": [
  {
   "cell_type": "markdown",
   "id": "0ed2c579-0c2f-45f3-9b02-c873b7bd6a0d",
   "metadata": {},
   "source": [
    "####    Create a list of five numbers.\n",
    "####    How would you append the number 6 to the list [1, 2, 3, 4, 5]?\n",
    "####    How would you access the third element in the list [\"apple\", \"banana\", \"cherry\", \"date\"]?\n",
    "####    Remove the last item from the list [10, 20, 30, 40].\n",
    "####    Write a Python code to sort the list [4, 1, 8, 5, 2] in ascending order.\n",
    "####    Create a list with mixed data types: an integer, a string, and a floating-point number.\n",
    "####    Use list slicing to get the first three elements of the list [10, 20, 30, 40, 50].\n",
    "####    Count how many times the number 3 appears in the list [1, 3, 3, 5, 7].\n",
    "####    Write a Python code to merge the lists [1, 2] and [3, 4] into one list.\n",
    "####    How would you clear all the items in the list [\"a\", \"b\", \"c\", \"d\"]?\n"
   ]
  },
  {
   "cell_type": "code",
   "execution_count": 2,
   "id": "fc14a908-9583-4fdf-8e70-4fee823a4f7e",
   "metadata": {},
   "outputs": [
    {
     "data": {
      "text/plain": [
       "[1, 2, 3, 4, 5]"
      ]
     },
     "execution_count": 2,
     "metadata": {},
     "output_type": "execute_result"
    }
   ],
   "source": [
    "a=[1,2,3,4,5]\n",
    "a"
   ]
  },
  {
   "cell_type": "code",
   "execution_count": 3,
   "id": "72d758d9-5a78-4d76-b251-94240d9f8159",
   "metadata": {},
   "outputs": [
    {
     "data": {
      "text/plain": [
       "[1, 2, 3, 4, 5, 6]"
      ]
     },
     "execution_count": 3,
     "metadata": {},
     "output_type": "execute_result"
    }
   ],
   "source": [
    "a.append(6)\n",
    "a"
   ]
  },
  {
   "cell_type": "code",
   "execution_count": 6,
   "id": "73ad948e-ee99-40bd-8e0a-8b8447f6dfb7",
   "metadata": {},
   "outputs": [
    {
     "data": {
      "text/plain": [
       "'cherry'"
      ]
     },
     "execution_count": 6,
     "metadata": {},
     "output_type": "execute_result"
    }
   ],
   "source": [
    "c=[\"apple\", \"banana\", \"cherry\", \"date\"]\n",
    "c[2]"
   ]
  },
  {
   "cell_type": "code",
   "execution_count": 5,
   "id": "a8b500d9-d8a0-4015-a016-8fe3f2d43438",
   "metadata": {},
   "outputs": [
    {
     "data": {
      "text/plain": [
       "[10, 20, 30]"
      ]
     },
     "execution_count": 5,
     "metadata": {},
     "output_type": "execute_result"
    }
   ],
   "source": [
    "e=[10, 20, 30, 40]\n",
    "e.remove(40)\n",
    "e"
   ]
  },
  {
   "cell_type": "code",
   "execution_count": 8,
   "id": "9fad1132-8aa0-4fc3-a2bd-bf8e02ad6d13",
   "metadata": {},
   "outputs": [
    {
     "data": {
      "text/plain": [
       "40"
      ]
     },
     "execution_count": 8,
     "metadata": {},
     "output_type": "execute_result"
    }
   ],
   "source": [
    "e=[10, 20, 30, 40]\n",
    "l=e.pop(3)\n",
    "l"
   ]
  },
  {
   "cell_type": "code",
   "execution_count": 9,
   "id": "a56b8a53-ec01-4718-912e-9bd02184d8a4",
   "metadata": {},
   "outputs": [
    {
     "data": {
      "text/plain": [
       "[10, 20, 30]"
      ]
     },
     "execution_count": 9,
     "metadata": {},
     "output_type": "execute_result"
    }
   ],
   "source": [
    "e"
   ]
  },
  {
   "cell_type": "code",
   "execution_count": 11,
   "id": "ee770c15-74a6-4f9c-9730-c2d946e88832",
   "metadata": {},
   "outputs": [
    {
     "data": {
      "text/plain": [
       "[1, 2, 4, 5, 8]"
      ]
     },
     "execution_count": 11,
     "metadata": {},
     "output_type": "execute_result"
    }
   ],
   "source": [
    "g=[4, 1, 8, 5, 2]\n",
    "g.sort()\n",
    "g"
   ]
  },
  {
   "cell_type": "code",
   "execution_count": 12,
   "id": "83c5a66a-4709-43b3-bf51-ea83ea6b17f4",
   "metadata": {},
   "outputs": [
    {
     "data": {
      "text/plain": [
       "[4, 'hi', 4.5]"
      ]
     },
     "execution_count": 12,
     "metadata": {},
     "output_type": "execute_result"
    }
   ],
   "source": [
    "n=[4,\"hi\",4.5]\n",
    "n"
   ]
  },
  {
   "cell_type": "code",
   "execution_count": 13,
   "id": "1f7360e7-d1a2-47e3-a80e-f231222c6cd6",
   "metadata": {},
   "outputs": [
    {
     "data": {
      "text/plain": [
       "[10, 20, 30]"
      ]
     },
     "execution_count": 13,
     "metadata": {},
     "output_type": "execute_result"
    }
   ],
   "source": [
    "x=[10, 20, 30, 40, 50]\n",
    "x[0:3]"
   ]
  },
  {
   "cell_type": "code",
   "execution_count": 14,
   "id": "917433a5-52c4-419e-ad84-25b7f3da841e",
   "metadata": {},
   "outputs": [
    {
     "data": {
      "text/plain": [
       "2"
      ]
     },
     "execution_count": 14,
     "metadata": {},
     "output_type": "execute_result"
    }
   ],
   "source": [
    "s=[1, 3, 3, 5, 7]\n",
    "s.count(3)"
   ]
  },
  {
   "cell_type": "code",
   "execution_count": 15,
   "id": "a875817b-4415-4cc9-972c-2bdfeb73bce9",
   "metadata": {},
   "outputs": [
    {
     "data": {
      "text/plain": [
       "[1, 2, 3, 4]"
      ]
     },
     "execution_count": 15,
     "metadata": {},
     "output_type": "execute_result"
    }
   ],
   "source": [
    "m=[1,2]\n",
    "n=[3,4]\n",
    "l=m+n\n",
    "l"
   ]
  },
  {
   "cell_type": "code",
   "execution_count": 16,
   "id": "0dc42f7e-a5a8-4fed-819d-3b1f23880094",
   "metadata": {},
   "outputs": [
    {
     "data": {
      "text/plain": [
       "[]"
      ]
     },
     "execution_count": 16,
     "metadata": {},
     "output_type": "execute_result"
    }
   ],
   "source": [
    "j=[\"a\", \"b\", \"c\", \"d\"]\n",
    "j.clear()\n",
    "j"
   ]
  },
  {
   "cell_type": "code",
   "execution_count": null,
   "id": "51b99bce-ed7a-4c85-9765-31a076efb92d",
   "metadata": {},
   "outputs": [],
   "source": []
  }
 ],
 "metadata": {
  "kernelspec": {
   "display_name": "Python 3 (ipykernel)",
   "language": "python",
   "name": "python3"
  },
  "language_info": {
   "codemirror_mode": {
    "name": "ipython",
    "version": 3
   },
   "file_extension": ".py",
   "mimetype": "text/x-python",
   "name": "python",
   "nbconvert_exporter": "python",
   "pygments_lexer": "ipython3",
   "version": "3.12.4"
  }
 },
 "nbformat": 4,
 "nbformat_minor": 5
}

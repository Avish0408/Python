{
 "cells": [
  {
   "cell_type": "markdown",
   "id": "4f545596-14d7-42c3-94ac-bcfb5841e2b5",
   "metadata": {},
   "source": [
    "### Create a tuple with three colors: \"red\", \"green\", and \"blue\".\n",
    "### How would you access the second element in the tuple (1, 2, 3)?\n",
    "### Can you change the value of an element in a tuple? Explain.\n",
    "### Write a Python code to find the length of the tuple (\"a\", \"b\", \"c\", \"d\", \"e\").\n",
    "### Convert the tuple (1, 2, 3) into a list.\n",
    "### How would you concatenate the tuples (1, 2) and (3, 4)?\n",
    "### Check if the value \"apple\" exists in the tuple (\"orange\", \"apple\", \"banana\").\n",
    "### Write a Python code to get the last item of the tuple (100, 200, 300, 400).\n",
    "### Use tuple unpacking to assign the values (10, 20, 30) to three variables.\n",
    "### How would you convert a list [5, 10, 15] into a tuple?\n"
   ]
  },
  {
   "cell_type": "code",
   "execution_count": 6,
   "id": "dc48c351-5659-43fb-8e22-0fb1f9e3d9de",
   "metadata": {},
   "outputs": [
    {
     "data": {
      "text/plain": [
       "tuple"
      ]
     },
     "execution_count": 6,
     "metadata": {},
     "output_type": "execute_result"
    }
   ],
   "source": [
    "colours=(\"red\",\"green\",\"blue\")\n",
    "colours\n",
    "type(colours)"
   ]
  },
  {
   "cell_type": "code",
   "execution_count": 2,
   "id": "2e19be7f-8c1c-4203-81b1-eac5f945674c",
   "metadata": {},
   "outputs": [
    {
     "data": {
      "text/plain": [
       "2"
      ]
     },
     "execution_count": 2,
     "metadata": {},
     "output_type": "execute_result"
    }
   ],
   "source": [
    "ele=(1,2,3)\n",
    "ele[1]"
   ]
  },
  {
   "cell_type": "code",
   "execution_count": 3,
   "id": "f05e1a59-720e-4a85-a437-db87eff6f949",
   "metadata": {},
   "outputs": [
    {
     "ename": "TypeError",
     "evalue": "'tuple' object does not support item assignment",
     "output_type": "error",
     "traceback": [
      "\u001b[1;31m---------------------------------------------------------------------------\u001b[0m",
      "\u001b[1;31mTypeError\u001b[0m                                 Traceback (most recent call last)",
      "Cell \u001b[1;32mIn[3], line 1\u001b[0m\n\u001b[1;32m----> 1\u001b[0m ele[\u001b[38;5;241m1\u001b[39m]\u001b[38;5;241m=\u001b[39m\u001b[38;5;241m4\u001b[39m\n\u001b[0;32m      2\u001b[0m ele\n",
      "\u001b[1;31mTypeError\u001b[0m: 'tuple' object does not support item assignment"
     ]
    }
   ],
   "source": [
    "ele[1]=4  ##tuple is immutable\n",
    "ele"
   ]
  },
  {
   "cell_type": "code",
   "execution_count": 5,
   "id": "4b4b2cd4-12c9-4cd7-b33d-ba2cd3389177",
   "metadata": {},
   "outputs": [
    {
     "data": {
      "text/plain": [
       "5"
      ]
     },
     "execution_count": 5,
     "metadata": {},
     "output_type": "execute_result"
    }
   ],
   "source": [
    "length=(\"a\", \"b\", \"c\", \"d\", \"e\")\n",
    "len(length)"
   ]
  },
  {
   "cell_type": "code",
   "execution_count": 7,
   "id": "012f3c60-c56f-4846-9a0f-8a888a3bbfd7",
   "metadata": {},
   "outputs": [
    {
     "data": {
      "text/plain": [
       "list"
      ]
     },
     "execution_count": 7,
     "metadata": {},
     "output_type": "execute_result"
    }
   ],
   "source": [
    "tup=(1,2,3)\n",
    "li=list(tup)\n",
    "li\n",
    "type(li)"
   ]
  },
  {
   "cell_type": "code",
   "execution_count": 8,
   "id": "0c0ab6bf-86a9-4271-a259-2cdfa2752466",
   "metadata": {},
   "outputs": [
    {
     "data": {
      "text/plain": [
       "(1, 2, 3, 4)"
      ]
     },
     "execution_count": 8,
     "metadata": {},
     "output_type": "execute_result"
    }
   ],
   "source": [
    "con=(1,2)\n",
    "catenate=(3,4)\n",
    "concatenate=con+catenate\n",
    "concatenate"
   ]
  },
  {
   "cell_type": "code",
   "execution_count": 14,
   "id": "924ae2a5-fc3e-43d1-a37b-1715ec7d1772",
   "metadata": {},
   "outputs": [
    {
     "name": "stdout",
     "output_type": "stream",
     "text": [
      "True\n"
     ]
    }
   ],
   "source": [
    "exist=(\"orange\", \"apple\", \"banana\")\n",
    "print(\"apple\" in exist)"
   ]
  },
  {
   "cell_type": "code",
   "execution_count": 10,
   "id": "fda8453a-7ac9-4929-8ba3-d6a56ab74b0d",
   "metadata": {},
   "outputs": [
    {
     "data": {
      "text/plain": [
       "400"
      ]
     },
     "execution_count": 10,
     "metadata": {},
     "output_type": "execute_result"
    }
   ],
   "source": [
    "last=(100, 200, 300, 400)\n",
    "last[-1]"
   ]
  },
  {
   "cell_type": "code",
   "execution_count": 16,
   "id": "7a8922fa-ec48-4d92-ae7e-8c85cb74dd06",
   "metadata": {},
   "outputs": [
    {
     "name": "stdout",
     "output_type": "stream",
     "text": [
      "10\n",
      "20\n",
      "30\n"
     ]
    }
   ],
   "source": [
    "a,b,c=(10,20,30)\n",
    "(a, b, c)= a,b,c\n",
    "print(a)\n",
    "print(b)\n",
    "print(c)"
   ]
  },
  {
   "cell_type": "code",
   "execution_count": 17,
   "id": "75b412b0-ae80-46fe-b369-bad1d5374a04",
   "metadata": {},
   "outputs": [
    {
     "data": {
      "text/plain": [
       "tuple"
      ]
     },
     "execution_count": 17,
     "metadata": {},
     "output_type": "execute_result"
    }
   ],
   "source": [
    "b=[5, 10, 15]\n",
    "v=tuple(b)\n",
    "v\n",
    "type(v)"
   ]
  },
  {
   "cell_type": "code",
   "execution_count": null,
   "id": "3e95f03b-1705-44db-b605-3484a6fa3d98",
   "metadata": {},
   "outputs": [],
   "source": []
  }
 ],
 "metadata": {
  "kernelspec": {
   "display_name": "Python 3 (ipykernel)",
   "language": "python",
   "name": "python3"
  },
  "language_info": {
   "codemirror_mode": {
    "name": "ipython",
    "version": 3
   },
   "file_extension": ".py",
   "mimetype": "text/x-python",
   "name": "python",
   "nbconvert_exporter": "python",
   "pygments_lexer": "ipython3",
   "version": "3.12.4"
  }
 },
 "nbformat": 4,
 "nbformat_minor": 5
}

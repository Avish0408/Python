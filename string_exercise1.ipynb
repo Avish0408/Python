{
 "cells": [
  {
   "cell_type": "markdown",
   "id": "824cb43a-962c-4c07-9215-49646745e6f9",
   "metadata": {},
   "source": [
    " \t\n",
    " \t\n",
    " \t\n",
    " \t##### Write a Python code to check if the word \"learn\" is in the sentence \"Let's all learn Python!\".\n",
    " \t##### Convert the string \"hello world\" to uppercase.\n",
    " \t##### Concatenate two strings: \"Data\" and \"Analysis\".\n",
    " \t##### Replace all occurrences of \"a\" with \"@\" in the string \"DataAnalytics\".\n",
    " \t##### Write a Python code to reverse the string \"Python\".\n",
    " \t##### Count how many times the letter \"e\" appears in the string \"Experience\".\n",
    " \t##### Split the string \"Learn,Analyze,Build\" into a list of words.\n",
    "\n"
   ]
  },
  {
   "cell_type": "markdown",
   "id": "9e362411-fae9-48ae-a8f7-a5570dafd7d5",
   "metadata": {},
   "source": [
    "##### Create a string variable with your full name."
   ]
  },
  {
   "cell_type": "markdown",
   "id": "93c3df01-c9d4-4ef4-a41c-16f1cc3c0a31",
   "metadata": {},
   "source": [
    "##### What is the length of the string \"PythonProgramming\"?"
   ]
  },
  {
   "cell_type": "markdown",
   "id": "513c4b0d-7303-4ca1-83fc-47462537140a",
   "metadata": {},
   "source": [
    "##### How would you extract the first three characters of the string \"DataScience\"?"
   ]
  },
  {
   "cell_type": "code",
   "execution_count": 2,
   "id": "c646df2a-a82d-4bf9-8425-db8af2eb5606",
   "metadata": {},
   "outputs": [
    {
     "data": {
      "text/plain": [
       "'Shiva'"
      ]
     },
     "execution_count": 2,
     "metadata": {},
     "output_type": "execute_result"
    }
   ],
   "source": [
    "name='Shiva'\n",
    "name"
   ]
  },
  {
   "cell_type": "code",
   "execution_count": 3,
   "id": "3226bf2b-a0a0-4662-9c33-a8a6d7bd0664",
   "metadata": {},
   "outputs": [
    {
     "data": {
      "text/plain": [
       "17"
      ]
     },
     "execution_count": 3,
     "metadata": {},
     "output_type": "execute_result"
    }
   ],
   "source": [
    "length=\"PythonProgramming\"\n",
    "len(length)"
   ]
  },
  {
   "cell_type": "code",
   "execution_count": 4,
   "id": "0a61bcc5-08ea-48b1-a6a3-a330256bb9f3",
   "metadata": {},
   "outputs": [
    {
     "data": {
      "text/plain": [
       "'Dat'"
      ]
     },
     "execution_count": 4,
     "metadata": {},
     "output_type": "execute_result"
    }
   ],
   "source": [
    "extract=\"DataScience\"\n",
    "extract[0:3]"
   ]
  },
  {
   "cell_type": "code",
   "execution_count": 5,
   "id": "1c8db531-da79-43d7-92f2-e1afc801e340",
   "metadata": {},
   "outputs": [
    {
     "name": "stdout",
     "output_type": "stream",
     "text": [
      "True\n"
     ]
    }
   ],
   "source": [
    "check=\"Let's all learn Python!\"\n",
    "print(\"learn\" in check)"
   ]
  },
  {
   "cell_type": "code",
   "execution_count": 7,
   "id": "ec61d63e-f507-4dc7-ae7b-121c57a92b33",
   "metadata": {},
   "outputs": [
    {
     "data": {
      "text/plain": [
       "'HELLO WORLD'"
      ]
     },
     "execution_count": 7,
     "metadata": {},
     "output_type": "execute_result"
    }
   ],
   "source": [
    "upper=\"hello world\"\n",
    "upper.upper()"
   ]
  },
  {
   "cell_type": "code",
   "execution_count": 9,
   "id": "f8d913aa-063f-4e86-9773-d01d8b8fe13e",
   "metadata": {},
   "outputs": [
    {
     "data": {
      "text/plain": [
       "'Data Analysis'"
      ]
     },
     "execution_count": 9,
     "metadata": {},
     "output_type": "execute_result"
    }
   ],
   "source": [
    "con=\"Data\"\n",
    "cantate=\"Analysis\"\n",
    "concantate=con+' '+cantate\n",
    "concantate"
   ]
  },
  {
   "cell_type": "code",
   "execution_count": 11,
   "id": "3c80507e-100c-4738-b526-43cb54e4b76f",
   "metadata": {},
   "outputs": [
    {
     "data": {
      "text/plain": [
       "'D@t@An@lytics'"
      ]
     },
     "execution_count": 11,
     "metadata": {},
     "output_type": "execute_result"
    }
   ],
   "source": [
    "replace=\"DataAnalytics\"\n",
    "replace.replace(\"a\",\"@\")"
   ]
  },
  {
   "cell_type": "code",
   "execution_count": 12,
   "id": "e672ae2a-47da-4988-94b9-f9d54bc14ad6",
   "metadata": {},
   "outputs": [
    {
     "data": {
      "text/plain": [
       "'nohtyP'"
      ]
     },
     "execution_count": 12,
     "metadata": {},
     "output_type": "execute_result"
    }
   ],
   "source": [
    "reverse=\"Python\"\n",
    "reverse[::-1]"
   ]
  },
  {
   "cell_type": "code",
   "execution_count": 13,
   "id": "396f5aa5-9441-4864-a4ca-fdf2cc790014",
   "metadata": {},
   "outputs": [
    {
     "data": {
      "text/plain": [
       "3"
      ]
     },
     "execution_count": 13,
     "metadata": {},
     "output_type": "execute_result"
    }
   ],
   "source": [
    "count=\"Experience\"\n",
    "count.count(\"e\")"
   ]
  },
  {
   "cell_type": "code",
   "execution_count": 14,
   "id": "df6a21d9-e26e-40ae-be29-c756b8ea8016",
   "metadata": {},
   "outputs": [
    {
     "data": {
      "text/plain": [
       "['Learn', 'Analyze', 'Build']"
      ]
     },
     "execution_count": 14,
     "metadata": {},
     "output_type": "execute_result"
    }
   ],
   "source": [
    "words=\"Learn,Analyze,Build\"\n",
    "words.split(',')"
   ]
  },
  {
   "cell_type": "code",
   "execution_count": null,
   "id": "8b3770e3-ec48-46b6-8d91-632e4a426013",
   "metadata": {},
   "outputs": [],
   "source": []
  }
 ],
 "metadata": {
  "kernelspec": {
   "display_name": "Python 3 (ipykernel)",
   "language": "python",
   "name": "python3"
  },
  "language_info": {
   "codemirror_mode": {
    "name": "ipython",
    "version": 3
   },
   "file_extension": ".py",
   "mimetype": "text/x-python",
   "name": "python",
   "nbconvert_exporter": "python",
   "pygments_lexer": "ipython3",
   "version": "3.12.4"
  }
 },
 "nbformat": 4,
 "nbformat_minor": 5
}

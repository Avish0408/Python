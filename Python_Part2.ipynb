{
 "cells": [
  {
   "cell_type": "code",
   "execution_count": 1,
   "id": "50949c62-ff0a-44a9-9e92-4f4107d1f4ea",
   "metadata": {},
   "outputs": [
    {
     "name": "stdout",
     "output_type": "stream",
     "text": [
      "positive\n"
     ]
    }
   ],
   "source": [
    "num=5\n",
    "if num>0:\n",
    "    print(\"positive\")"
   ]
  },
  {
   "cell_type": "code",
   "execution_count": 2,
   "id": "ae794cde-374a-4fc1-8686-e149ae0f54a3",
   "metadata": {},
   "outputs": [],
   "source": [
    "num=-1\n",
    "if num>0:\n",
    "    print(\"positive\")"
   ]
  },
  {
   "cell_type": "code",
   "execution_count": 3,
   "id": "0563aeb3-5659-448a-92a4-08dc5fc2ede1",
   "metadata": {},
   "outputs": [
    {
     "name": "stdout",
     "output_type": "stream",
     "text": [
      "negative\n"
     ]
    }
   ],
   "source": [
    "num=-1\n",
    "if num>0:\n",
    "    print(\"positive\")\n",
    "else:\n",
    "    print(\"negative\")"
   ]
  },
  {
   "cell_type": "code",
   "execution_count": 4,
   "id": "b1e4694c-1e79-4a64-8731-042ba6e5b845",
   "metadata": {},
   "outputs": [
    {
     "name": "stdout",
     "output_type": "stream",
     "text": [
      "zero\n"
     ]
    }
   ],
   "source": [
    "num=-0\n",
    "if num>0:\n",
    "    print(\"positive\")\n",
    "elif num==0:\n",
    "    print(\"zero\")\n",
    "else:\n",
    "    print(\"negative\")"
   ]
  },
  {
   "cell_type": "code",
   "execution_count": 28,
   "id": "9272ef59-4433-4bd3-94e9-0ede841feba4",
   "metadata": {},
   "outputs": [
    {
     "name": "stdout",
     "output_type": "stream",
     "text": [
      "young\n"
     ]
    }
   ],
   "source": [
    "age=10\n",
    "if age<18:\n",
    "    print(\"young\")"
   ]
  },
  {
   "cell_type": "code",
   "execution_count": 29,
   "id": "fe52f101-89fa-4670-9d5f-20b99560f1b6",
   "metadata": {},
   "outputs": [
    {
     "name": "stdout",
     "output_type": "stream",
     "text": [
      "senior citizen\n"
     ]
    }
   ],
   "source": [
    "age=65\n",
    "if age<18:\n",
    "    print(\"young\")\n",
    "elif age>60:\n",
    "    print(\"senior citizen\")"
   ]
  },
  {
   "cell_type": "code",
   "execution_count": 30,
   "id": "62090bbc-c732-401c-8b77-d0336a0c8a73",
   "metadata": {},
   "outputs": [
    {
     "name": "stdout",
     "output_type": "stream",
     "text": [
      "adult\n"
     ]
    }
   ],
   "source": [
    "age=32\n",
    "if age<18:\n",
    "    print(\"young\")\n",
    "elif age>60:\n",
    "    print(\"senior citizen\")\n",
    "else:\n",
    "    print(\"adult\")"
   ]
  },
  {
   "cell_type": "code",
   "execution_count": 32,
   "id": "311e9674-1a66-4b4c-a5ff-5d4adcf05fea",
   "metadata": {},
   "outputs": [
    {
     "name": "stdout",
     "output_type": "stream",
     "text": [
      "No entry fee\n"
     ]
    }
   ],
   "source": [
    "age=3\n",
    "if age<5:\n",
    "    print(\"No entry fee\")"
   ]
  },
  {
   "cell_type": "code",
   "execution_count": 34,
   "id": "f3925814-5f0e-45ac-9f39-64a27e4f373f",
   "metadata": {},
   "outputs": [
    {
     "name": "stdout",
     "output_type": "stream",
     "text": [
      "NEF\n"
     ]
    }
   ],
   "source": [
    "age=65\n",
    "if age<5:\n",
    "    print(\"No entry fee\")\n",
    "elif age>60:\n",
    "    print(\"NEF\")"
   ]
  },
  {
   "cell_type": "code",
   "execution_count": 36,
   "id": "c0a595fc-79a4-44c3-b310-c9ecdfc829a2",
   "metadata": {},
   "outputs": [
    {
     "name": "stdout",
     "output_type": "stream",
     "text": [
      "EF25\n"
     ]
    }
   ],
   "source": [
    "age=20\n",
    "if age<5:\n",
    "    print(\"No entry fee\")\n",
    "elif age>60:\n",
    "    print(\"NEF\")\n",
    "else:\n",
    "    print(\"EF25\")"
   ]
  },
  {
   "cell_type": "code",
   "execution_count": 54,
   "id": "27fa1b23-1502-4b95-b13e-df03cb8368d5",
   "metadata": {},
   "outputs": [
    {
     "name": "stdout",
     "output_type": "stream",
     "text": [
      "EF20\n"
     ]
    }
   ],
   "source": [
    "age=25\n",
    "if age<=5:\n",
    "    print(\"No entry fee\")\n",
    "elif age>60:\n",
    "    print(\"NEF\")\n",
    "elif age<=25:\n",
    "    print(\"EF20\")\n",
    "else:\n",
    "    print(\"EF25\")"
   ]
  },
  {
   "cell_type": "code",
   "execution_count": 55,
   "id": "1cc0c0c3-e51d-4ed8-bd54-270270816db3",
   "metadata": {},
   "outputs": [
    {
     "name": "stdout",
     "output_type": "stream",
     "text": [
      "1\n",
      "2\n",
      "3\n",
      "4\n",
      "5\n"
     ]
    }
   ],
   "source": [
    "## Loops\n",
    "for i in range(1,6):\n",
    "    print(i)"
   ]
  },
  {
   "cell_type": "code",
   "execution_count": 56,
   "id": "fb02c6f3-7c1a-4aed-8e54-5afdb78bc266",
   "metadata": {},
   "outputs": [
    {
     "name": "stdout",
     "output_type": "stream",
     "text": [
      "S\n",
      "h\n",
      "i\n",
      "v\n",
      "a\n"
     ]
    }
   ],
   "source": [
    "name=\"Shiva\"\n",
    "for i in name:\n",
    "    print(i)"
   ]
  },
  {
   "cell_type": "code",
   "execution_count": 58,
   "id": "73efa7bd-1da5-489e-94bf-c6d6eec4604e",
   "metadata": {},
   "outputs": [
    {
     "name": "stdout",
     "output_type": "stream",
     "text": [
      "0\n",
      "1\n",
      "2\n",
      "3\n",
      "4\n"
     ]
    }
   ],
   "source": [
    "for d in range(0,5):\n",
    "    print(d)"
   ]
  },
  {
   "cell_type": "code",
   "execution_count": 59,
   "id": "48319cfb-a3b2-4f33-8f12-7aff5a382f5a",
   "metadata": {},
   "outputs": [
    {
     "name": "stdout",
     "output_type": "stream",
     "text": [
      "0\n",
      "1\n",
      "2\n",
      "3\n",
      "4\n"
     ]
    }
   ],
   "source": [
    "for d in range(5):\n",
    "    print(d)"
   ]
  },
  {
   "cell_type": "code",
   "execution_count": 61,
   "id": "3e7dedc5-8264-48aa-bd7d-34931aa1130e",
   "metadata": {},
   "outputs": [
    {
     "name": "stdout",
     "output_type": "stream",
     "text": [
      "0\n",
      "1\n",
      "2\n",
      "3\n",
      "4\n"
     ]
    }
   ],
   "source": [
    "i=0\n",
    "while i<5:\n",
    "    print(i)\n",
    "    i+=1"
   ]
  },
  {
   "cell_type": "code",
   "execution_count": 63,
   "id": "072665ba-8cd4-4f4d-9691-727690f26447",
   "metadata": {},
   "outputs": [
    {
     "name": "stdout",
     "output_type": "stream",
     "text": [
      "1\n",
      "2\n",
      "3\n",
      "4\n",
      "5\n"
     ]
    }
   ],
   "source": [
    "i=1\n",
    "while i<=5:\n",
    "    print(i)\n",
    "    i+=1"
   ]
  },
  {
   "cell_type": "code",
   "execution_count": 66,
   "id": "b6037550-be36-46ec-b50f-cd30d71bfc5e",
   "metadata": {},
   "outputs": [
    {
     "name": "stdout",
     "output_type": "stream",
     "text": [
      "Shiva\n",
      "Shiva\n",
      "Shiva\n",
      "Shiva\n",
      "Shiva\n"
     ]
    }
   ],
   "source": [
    "string=\"Shiva\"\n",
    "\n",
    "i=0\n",
    "\n",
    "while i<5:\n",
    "    print(string)\n",
    "    i+=1"
   ]
  },
  {
   "cell_type": "code",
   "execution_count": 67,
   "id": "3f1d2801-e2a4-4781-bdc2-98ef716f02bf",
   "metadata": {},
   "outputs": [
    {
     "name": "stdout",
     "output_type": "stream",
     "text": [
      "Shiva\n",
      "Shiva\n",
      "Shiva\n"
     ]
    }
   ],
   "source": [
    "string=\"Shiva\"\n",
    "\n",
    "i=0\n",
    "\n",
    "while i<5:\n",
    "    print(string)\n",
    "    i+=2"
   ]
  },
  {
   "cell_type": "code",
   "execution_count": 68,
   "id": "fefbf7f7-56e0-4d2e-a271-47b4839cc64d",
   "metadata": {},
   "outputs": [
    {
     "name": "stdout",
     "output_type": "stream",
     "text": [
      "Shiva\n",
      "Shiva\n"
     ]
    }
   ],
   "source": [
    "string=\"Shiva\"\n",
    "\n",
    "i=0\n",
    "\n",
    "while i<5:\n",
    "    print(string)\n",
    "    i+=3"
   ]
  },
  {
   "cell_type": "code",
   "execution_count": 70,
   "id": "d5a223f7-82d7-4273-8b74-7f244ef14539",
   "metadata": {},
   "outputs": [
    {
     "name": "stdout",
     "output_type": "stream",
     "text": [
      "150\n"
     ]
    }
   ],
   "source": [
    "### Functions\n",
    "\n",
    "def area(length,breadth):\n",
    "    return length*breadth\n",
    "\n",
    "length=10\n",
    "breadth=15\n",
    "\n",
    "area_rectangle=area(length,breadth)\n",
    "print(area_rectangle)"
   ]
  },
  {
   "cell_type": "code",
   "execution_count": 71,
   "id": "e8bb7976-50ec-4318-9c54-469f8d2cc106",
   "metadata": {},
   "outputs": [
    {
     "name": "stdout",
     "output_type": "stream",
     "text": [
      "152.88\n"
     ]
    }
   ],
   "source": [
    "def area_circle(radius):\n",
    "    return 3.12*radius*radius\n",
    "print(area_circle(7))"
   ]
  },
  {
   "cell_type": "code",
   "execution_count": 72,
   "id": "e6373f23-452b-46f4-af54-6c91924605ea",
   "metadata": {},
   "outputs": [
    {
     "data": {
      "text/plain": [
       "312.0"
      ]
     },
     "execution_count": 72,
     "metadata": {},
     "output_type": "execute_result"
    }
   ],
   "source": [
    "area_circle(10)"
   ]
  },
  {
   "cell_type": "code",
   "execution_count": 73,
   "id": "4f714b19-0ba8-470e-9494-5f307036d65c",
   "metadata": {},
   "outputs": [
    {
     "data": {
      "text/plain": [
       "702.0000000000001"
      ]
     },
     "execution_count": 73,
     "metadata": {},
     "output_type": "execute_result"
    }
   ],
   "source": [
    "area_circle(15)"
   ]
  },
  {
   "cell_type": "code",
   "execution_count": 79,
   "id": "ea748675-c365-4ab4-8b9a-4b614c1e8d1a",
   "metadata": {},
   "outputs": [
    {
     "name": "stdout",
     "output_type": "stream",
     "text": [
      "150\n"
     ]
    }
   ],
   "source": [
    "def area(length,breadth):\n",
    "    return length*breadth\n",
    "\n",
    "length=10\n",
    "breadth=15\n",
    "\n",
    "area_rectangle=area(length,breadth)\n",
    "print(area_rectangle)"
   ]
  },
  {
   "cell_type": "code",
   "execution_count": null,
   "id": "5ffeb5ad-a655-4b28-90c2-0f66444e0bdd",
   "metadata": {},
   "outputs": [],
   "source": []
  }
 ],
 "metadata": {
  "kernelspec": {
   "display_name": "Python 3 (ipykernel)",
   "language": "python",
   "name": "python3"
  },
  "language_info": {
   "codemirror_mode": {
    "name": "ipython",
    "version": 3
   },
   "file_extension": ".py",
   "mimetype": "text/x-python",
   "name": "python",
   "nbconvert_exporter": "python",
   "pygments_lexer": "ipython3",
   "version": "3.12.4"
  }
 },
 "nbformat": 4,
 "nbformat_minor": 5
}
